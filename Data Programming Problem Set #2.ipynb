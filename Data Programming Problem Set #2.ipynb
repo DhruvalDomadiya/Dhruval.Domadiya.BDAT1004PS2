{
 "cells": [
  {
   "cell_type": "markdown",
   "id": "14925873",
   "metadata": {},
   "source": [
    " <center><h1> <font color=\"Blue\"> BDAT 1004 Problem Set #2 </font></h1></center>\n",
    "\n",
    "<center><h3> Dhruval Domadiya <i>(#200466984)</i></h3></center>"
   ]
  },
  {
   "cell_type": "markdown",
   "id": "a4a85fa1",
   "metadata": {},
   "source": [
    "# Question 1</br>\n",
    "<b>Consider the Python module and answer </b>\n",
    "<li>What value is displayed when the last expression <b>(a)</b> is evaluated?</li>"
   ]
  },
  {
   "cell_type": "code",
   "execution_count": 1,
   "id": "e841d530",
   "metadata": {},
   "outputs": [],
   "source": [
    "a = 0\n",
    "def b():\n",
    " global a\n",
    " a = c(a)\n",
    "def c(a):\n",
    " return a + 2"
   ]
  },
  {
   "cell_type": "code",
   "execution_count": 2,
   "id": "0d62c044",
   "metadata": {},
   "outputs": [],
   "source": [
    "b()"
   ]
  },
  {
   "cell_type": "markdown",
   "id": "7f778331",
   "metadata": {},
   "source": [
    "Upon call of function <b>b()</b>\n",
    "<li>Step 1 - value of a = 0 (refers <b>global var a</b> and <b>change the value of global a</b>)</li>\n",
    "<li>Step 2 - call c(0) and change value of a to <b>2</b></li>"
   ]
  },
  {
   "cell_type": "code",
   "execution_count": 3,
   "id": "d5a62485",
   "metadata": {},
   "outputs": [],
   "source": [
    "b()"
   ]
  },
  {
   "cell_type": "markdown",
   "id": "6e1638e1",
   "metadata": {},
   "source": [
    "Value of a is now 2<br/>\n",
    "Again call function c(2) and change value of a to <b>4</b>"
   ]
  },
  {
   "cell_type": "code",
   "execution_count": 4,
   "id": "9e55bb08",
   "metadata": {},
   "outputs": [],
   "source": [
    "b()"
   ]
  },
  {
   "cell_type": "markdown",
   "id": "b51ee814",
   "metadata": {},
   "source": [
    "Value of a is now 4   \n",
    "Again call function c(2) and change value of a to <b>6</b>"
   ]
  },
  {
   "cell_type": "code",
   "execution_count": 5,
   "id": "7b1a52d8",
   "metadata": {},
   "outputs": [
    {
     "data": {
      "text/plain": [
       "6"
      ]
     },
     "execution_count": 5,
     "metadata": {},
     "output_type": "execute_result"
    }
   ],
   "source": [
    "#Prints the value of a\n",
    "\n",
    "a"
   ]
  },
  {
   "cell_type": "markdown",
   "id": "1ad1dc95",
   "metadata": {},
   "source": [
    "# Question 2\n",
    "\n",
    "<b>Function <i>fileLength()</i>, given to you, takes the name of a file as input and returns the length of the file.<br/>\n",
    "If the file cannot be found by the interpreter or if it cannot be read as a text file, an exception will be raised. Modify function fileLength() so that a friendly message is printed instead.</b>"
   ]
  },
  {
   "cell_type": "code",
   "execution_count": 6,
   "id": "ee352fa3",
   "metadata": {},
   "outputs": [],
   "source": [
    "def file_length(name):\n",
    "    try:\n",
    "        file = open(name)\n",
    "        Content = file.read()\n",
    "        file.close()\n",
    "        print(len(Content))\n",
    "        \n",
    "    # catch IO relataed errors   \n",
    "    except IOError:\n",
    "        print(\"File\", name, \"not found in the module\")\n",
    "    \n",
    "    # catch other errors\n",
    "    except:\n",
    "        print(\"BYE BYE!\")"
   ]
  },
  {
   "cell_type": "code",
   "execution_count": 7,
   "id": "3ff74205",
   "metadata": {},
   "outputs": [
    {
     "name": "stdout",
     "output_type": "stream",
     "text": [
      "File midterm.py not found in the module\n"
     ]
    }
   ],
   "source": [
    "file_length('midterm.py')"
   ]
  },
  {
   "cell_type": "markdown",
   "id": "48175477",
   "metadata": {},
   "source": [
    "# Question 3\n",
    "\n",
    "<b>Write a class named <i>Marsupial</i></b>"
   ]
  },
  {
   "cell_type": "code",
   "execution_count": 8,
   "id": "f7817f9a",
   "metadata": {},
   "outputs": [],
   "source": [
    "class Marsupial:\n",
    "    \n",
    "    def __init__(self):\n",
    "        self.List = []\n",
    "    \n",
    "    def put_in_pouch(self,species):\n",
    "        \n",
    "        return self.List.append(species)\n",
    "        \n",
    "    def pouch_contents(self):\n",
    "        return self.List"
   ]
  },
  {
   "cell_type": "code",
   "execution_count": 9,
   "id": "f4bffbf1",
   "metadata": {},
   "outputs": [
    {
     "data": {
      "text/plain": [
       "['doll', 'firetruck', 'kitten']"
      ]
     },
     "execution_count": 9,
     "metadata": {},
     "output_type": "execute_result"
    }
   ],
   "source": [
    "m = Marsupial()\n",
    "m.put_in_pouch('doll')\n",
    "m.put_in_pouch('firetruck')\n",
    "m.put_in_pouch('kitten')\n",
    "m.pouch_contents()"
   ]
  },
  {
   "cell_type": "markdown",
   "id": "008789c7",
   "metadata": {},
   "source": [
    "<b>Now write a class named Kangaroo as a subclass of Marsupial that inherits all the attributes of Marsupial and also:<br/>\n",
    "<li>a) Extends the Marsupial __init__ constructor to take, as input, the coordinates x and y of the Kangaroo object</li>\n",
    "<li>b) Supports method jump that takes number values dx and dy as input and moves the kangaroo by dx units along the x-axis and by dy units along the y-axis, and</li>\n",
    "<li>c) Overloads the __str__ operator</li></b>"
   ]
  },
  {
   "cell_type": "code",
   "execution_count": 10,
   "id": "301af73b",
   "metadata": {},
   "outputs": [],
   "source": [
    "class Kangaroo(Marsupial):\n",
    "    \n",
    "    def __init__(self, Xcord, Ycord):\n",
    "        self.X = Xcord\n",
    "        self.Y = Ycord\n",
    "        \n",
    "        Marsupial.__init__(self)\n",
    "       \n",
    "        \n",
    "    #def put_in_pouch(self,species):\n",
    "        #return self.List\n",
    "        \n",
    "    #def pouch_contents(self):\n",
    "        #return self.List\n",
    "    \n",
    "    #def setx(self,Xcord):\n",
    "        #self.X = Xcord\n",
    "        \n",
    "    #def setx(self,Ycord):\n",
    "        #self.Y = Ycord\n",
    "        \n",
    "    #def get(self):\n",
    "        #return (self.X,self.Y)\n",
    "    \n",
    "    def jump(self, dx, dy):\n",
    "        self.X += dx\n",
    "        self.Y += dy\n",
    "        \n",
    "    def __repr__(self):\n",
    "        return (\"I\\'m Kangaroo located at coordinates ({},{})\" .format(self.X,self.Y))"
   ]
  },
  {
   "cell_type": "code",
   "execution_count": 11,
   "id": "0ce3a568",
   "metadata": {},
   "outputs": [
    {
     "data": {
      "text/plain": [
       "['doll', 'firetruck', 'kitten']"
      ]
     },
     "execution_count": 11,
     "metadata": {},
     "output_type": "execute_result"
    }
   ],
   "source": [
    "k = Kangaroo(0,0)\n",
    "#print(k)\n",
    "k.put_in_pouch('doll')\n",
    "k.put_in_pouch('firetruck')\n",
    "k.put_in_pouch('kitten') \n",
    "k.pouch_contents()"
   ]
  },
  {
   "cell_type": "code",
   "execution_count": 12,
   "id": "f796624d",
   "metadata": {},
   "outputs": [
    {
     "name": "stdout",
     "output_type": "stream",
     "text": [
      "I'm Kangaroo located at coordinates (3,0)\n"
     ]
    }
   ],
   "source": [
    "k.jump(1,0)\n",
    "k.jump(1,0)\n",
    "k.jump(1,0)\n",
    "print(k)"
   ]
  },
  {
   "cell_type": "markdown",
   "id": "d7e46ee0",
   "metadata": {},
   "source": [
    "# Question 4\n",
    "\n",
    "<b>Write function collatz() that takes a positive integer x as input and prints the Collatz sequence starting at x. A Collatz sequence is obtained by repeatedly applying this rule to the previous number x in the sequence:<br/>\n",
    "x =  𝑥/2 𝑖𝑓 𝑥 𝑖𝑠 𝑒𝑣𝑒𝑛<br/>x = 3𝑥+1 𝑖𝑓 𝑥 𝑖𝑠 𝑜𝑑𝑑<br/>\n",
    "Your function should stop when the sequence gets to number 1. Your implementation must be recursive, without any loops.</b>"
   ]
  },
  {
   "cell_type": "code",
   "execution_count": 13,
   "id": "2ce52535",
   "metadata": {},
   "outputs": [],
   "source": [
    "def collatz(X):\n",
    "    print(X)\n",
    "    if X == 1:\n",
    "        return\n",
    "    else:\n",
    "        if X % 2 == 0:\n",
    "            return collatz(int(X/2))\n",
    "        else:\n",
    "            return collatz(int(3*X + 1))"
   ]
  },
  {
   "cell_type": "code",
   "execution_count": 14,
   "id": "d254bfc1",
   "metadata": {},
   "outputs": [
    {
     "name": "stdout",
     "output_type": "stream",
     "text": [
      "1\n"
     ]
    }
   ],
   "source": [
    "collatz(1)"
   ]
  },
  {
   "cell_type": "code",
   "execution_count": 15,
   "id": "41c891c3",
   "metadata": {},
   "outputs": [
    {
     "name": "stdout",
     "output_type": "stream",
     "text": [
      "10\n",
      "5\n",
      "16\n",
      "8\n",
      "4\n",
      "2\n",
      "1\n"
     ]
    }
   ],
   "source": [
    "collatz(10)"
   ]
  },
  {
   "cell_type": "markdown",
   "id": "ff1181b8",
   "metadata": {},
   "source": [
    "# QUestion 5\n",
    "\n",
    "<b>Write a recursive method binary() that takes a non-negative integer n and prints the binary representation of integer n.</b>"
   ]
  },
  {
   "cell_type": "code",
   "execution_count": 16,
   "id": "98b694b2",
   "metadata": {},
   "outputs": [],
   "source": [
    "def binary(x):\n",
    "    if x == 0:\n",
    "        return 0\n",
    "    else:\n",
    "        return (x % 2 + 10 * binary(int(x // 2)))"
   ]
  },
  {
   "cell_type": "code",
   "execution_count": 17,
   "id": "0db470b4",
   "metadata": {},
   "outputs": [
    {
     "data": {
      "text/plain": [
       "1001"
      ]
     },
     "execution_count": 17,
     "metadata": {},
     "output_type": "execute_result"
    }
   ],
   "source": [
    "binary(9)"
   ]
  },
  {
   "cell_type": "code",
   "execution_count": 18,
   "id": "ce932d83",
   "metadata": {},
   "outputs": [
    {
     "data": {
      "text/plain": [
       "1011"
      ]
     },
     "execution_count": 18,
     "metadata": {},
     "output_type": "execute_result"
    }
   ],
   "source": [
    "binary(11)"
   ]
  },
  {
   "cell_type": "code",
   "execution_count": 19,
   "id": "bfab8433",
   "metadata": {},
   "outputs": [
    {
     "data": {
      "text/plain": [
       "0"
      ]
     },
     "execution_count": 19,
     "metadata": {},
     "output_type": "execute_result"
    }
   ],
   "source": [
    "binary(0)"
   ]
  },
  {
   "cell_type": "code",
   "execution_count": 20,
   "id": "2fe4a062",
   "metadata": {},
   "outputs": [
    {
     "data": {
      "text/plain": [
       "1"
      ]
     },
     "execution_count": 20,
     "metadata": {},
     "output_type": "execute_result"
    }
   ],
   "source": [
    "binary(1)"
   ]
  },
  {
   "cell_type": "code",
   "execution_count": 21,
   "id": "fd899717",
   "metadata": {},
   "outputs": [
    {
     "data": {
      "text/plain": [
       "11"
      ]
     },
     "execution_count": 21,
     "metadata": {},
     "output_type": "execute_result"
    }
   ],
   "source": [
    "binary(3)"
   ]
  },
  {
   "cell_type": "markdown",
   "id": "8dfbadbc",
   "metadata": {},
   "source": [
    "# Question 6\n",
    "\n",
    "<b>Implement a class named HeadingParser that can be used to parse an HTML document, and retrieve and print all the headings in the document. You should implement your class as a subclass of HTMLParser, defined in Standard Library module html.parser. When fed a string containing HTML code, your class should print the headings, one per line and in the order in which they appear in the document. Each heading should be indented as follows: an h1 heading should have indentation 0, and h2 heading should have indentation 1, etc. Test your implementation using w3c.html.</b>"
   ]
  },
  {
   "cell_type": "code",
   "execution_count": 22,
   "id": "63f69304",
   "metadata": {},
   "outputs": [],
   "source": [
    "from html.parser import HTMLParser \n",
    "\n",
    "class HeadingParser(HTMLParser):\n",
    "    \n",
    "    def handle_starttag(self, tag, attrs):\n",
    "        self.tag_List = []\n",
    "        self.tag_List = tag\n",
    "        \n",
    "    def handle_data(self, data):\n",
    "        if self.tag_List == 'h1':\n",
    "            print(data)\n",
    "            \n",
    "        elif self.tag_List == 'h2':\n",
    "            print(\" \", data)\n",
    "            \n",
    "        elif self.tag_List == 'h3':\n",
    "            print(\"  \", data)\n",
    "            \n",
    "        elif self.tag_List == 'h4':\n",
    "            print(\"   \", data)\n",
    "            \n",
    "        elif self.tag_List == 'h5':\n",
    "            print(\"    \", data)\n",
    "            \n",
    "        elif self.tag_List == 'h6':\n",
    "            print(\"     \", data)"
   ]
  },
  {
   "cell_type": "code",
   "execution_count": 23,
   "id": "05725ca0",
   "metadata": {},
   "outputs": [
    {
     "name": "stdout",
     "output_type": "stream",
     "text": [
      "W3C Mission\n",
      "\n",
      "\n",
      "  Principles\n",
      "  \n",
      "\n"
     ]
    }
   ],
   "source": [
    "infile = open('w3c.html')\n",
    "content = infile.read()\n",
    "infile.close()\n",
    "hp = HeadingParser()\n",
    "hp.feed(content)"
   ]
  },
  {
   "cell_type": "markdown",
   "id": "70c45244",
   "metadata": {},
   "source": [
    "# Question 7\n",
    "\n"
   ]
  },
  {
   "cell_type": "markdown",
   "id": "e9eca505",
   "metadata": {},
   "source": [
    "<b>Implement recursive function webdir() that takes as input: a URL (as a string) and non-negative integers depth and indent. Your function should visit every web page reachable from the starting URL web page in depth clicks or less, and print each web page's URL. As shown below, indentation, specified by indent, should be used to indicate the depth of a URL.</b>"
   ]
  },
  {
   "cell_type": "code",
   "execution_count": 24,
   "id": "734ea5b6",
   "metadata": {},
   "outputs": [],
   "source": [
    "from urllib.request import urlopen\n",
    "from urllib.parse import urljoin\n",
    "\n",
    "from html.parser import HTMLParser\n",
    "import re\n",
    "def analyze(url,indent,depth):\n",
    "    \n",
    "    print(indent*\"\" ,url)           \n",
    "\n",
    "    # obtain links in the web page\n",
    "    content = urlopen(url).read().decode()\n",
    "    collector = Collector(url)\n",
    "    collector.feed(content)\n",
    "    urls = collector.getLinks()          \n",
    "\n",
    "    return urls\n"
   ]
  },
  {
   "cell_type": "code",
   "execution_count": 25,
   "id": "c3a41370",
   "metadata": {},
   "outputs": [],
   "source": [
    "from urllib.parse import urljoin\n",
    "from html.parser import HTMLParser\n",
    "from urllib.request import urlopen\n",
    "\n",
    "class Collector(HTMLParser):\n",
    "    'collects hyperlink URLs into a list'\n",
    "\n",
    "    def __init__(self, url):\n",
    "        'initializes parser, the url, and a list'\n",
    "        HTMLParser.__init__(self)\n",
    "        self.url = url\n",
    "        self.links = []\n",
    "\n",
    "    \n",
    "    def handle_starttag(self, tag, attrs):\n",
    "        'collects hyperlink URLs in their absolute format'\n",
    "        if tag == 'a':\n",
    "            for attr in attrs:\n",
    "                if attr[0] == 'href':\n",
    "                    # construct absolute URL\n",
    "                    absolute = urljoin(self.url, attr[1])\n",
    "                    if absolute[:4] == 'http': # collect HTTP URLs\n",
    "                        self.links.append(absolute)\n",
    "                        \n",
    "    def getLinks(self):\n",
    "        'returns hyperlinks URLs in their absolute format'\n",
    "        return self.links\n"
   ]
  },
  {
   "cell_type": "code",
   "execution_count": 26,
   "id": "c2ef59fe",
   "metadata": {},
   "outputs": [],
   "source": [
    "visited = set() \n",
    "\n",
    "def WebDir(url,indent,depth):\n",
    "\n",
    "    # add url to set of visited pages\n",
    "    global visited    \n",
    "    visited.add(url)\n",
    "\n",
    "    # analyze() returns a list of hyperlink URLs in web page url \n",
    "    links = analyze(url,indent,depth)\n",
    "\n",
    "    # recursively continue crawl from every link in links\n",
    "    for link in links:\n",
    "        # follow link only if not visited\n",
    "        if link not in visited:\n",
    "            try:\n",
    "                WebDir(link, indent,depth)\n",
    "            except:\n",
    "                pass\n"
   ]
  },
  {
   "cell_type": "code",
   "execution_count": 27,
   "id": "9b4165e1",
   "metadata": {},
   "outputs": [
    {
     "name": "stdout",
     "output_type": "stream",
     "text": [
      " http://reed.cs.depaul.edu/lperkovic/one.html\n",
      " http://reed.cs.depaul.edu/lperkovic/two.html\n",
      " http://reed.cs.depaul.edu/lperkovic/four.html\n",
      " http://reed.cs.depaul.edu/lperkovic/five.html\n",
      " http://reed.cs.depaul.edu/lperkovic/three.html\n"
     ]
    }
   ],
   "source": [
    "WebDir('http://reed.cs.depaul.edu/lperkovic/one.html',2,0)"
   ]
  },
  {
   "cell_type": "markdown",
   "id": "fe815fde",
   "metadata": {},
   "source": [
    "# Question 8\n",
    "\n",
    "<b>Write SQL queries on the below database table</b>"
   ]
  },
  {
   "cell_type": "markdown",
   "id": "fc5e1a1f",
   "metadata": {},
   "source": [
    "#Install sql in ipython\n",
    "\n",
    "!pip install ipython-sql"
   ]
  },
  {
   "cell_type": "code",
   "execution_count": 28,
   "id": "c645ba9a",
   "metadata": {},
   "outputs": [],
   "source": [
    "import sqlite3"
   ]
  },
  {
   "cell_type": "markdown",
   "id": "c510edd1",
   "metadata": {},
   "source": [
    "<b>Create Database Table</b>"
   ]
  },
  {
   "cell_type": "code",
   "execution_count": 29,
   "id": "96cec183",
   "metadata": {},
   "outputs": [
    {
     "data": {
      "text/plain": [
       "<sqlite3.Cursor at 0x21c8245fd50>"
      ]
     },
     "execution_count": 29,
     "metadata": {},
     "output_type": "execute_result"
    }
   ],
   "source": [
    "con = sqlite3.connect('web.db')\n",
    "cur = con.cursor()\n",
    "\n",
    "#create table\n",
    "cur.execute(\"CREATE TABLE TempData (City text, Country text, Season text, Temperature float, Rainfall float)\")\n",
    "\n",
    "#Insert first row values into table\n",
    "cur.execute(\"INSERT INTO TempData VALUES ('Mumbai','India','Winter',24.8,5.9)\")"
   ]
  },
  {
   "cell_type": "markdown",
   "id": "0d992244",
   "metadata": {},
   "source": [
    "<b>Insert values to database table.</b>"
   ]
  },
  {
   "cell_type": "code",
   "execution_count": 30,
   "id": "8b1dce60",
   "metadata": {},
   "outputs": [
    {
     "data": {
      "text/plain": [
       "<sqlite3.Cursor at 0x21c8245fd50>"
      ]
     },
     "execution_count": 30,
     "metadata": {},
     "output_type": "execute_result"
    }
   ],
   "source": [
    "cur.execute(\"INSERT INTO TempData VALUES ('Mumbai','India','Spring',28.4,16.2)\")\n",
    "cur.execute(\"INSERT INTO TempData VALUES ('Mumbai','India','Summer',27.9,1549.4)\")\n",
    "cur.execute(\"INSERT INTO TempData VALUES ('Mumbai','India','Fall',27.6,346.0)\")\n",
    "cur.execute(\"INSERT INTO TempData VALUES ('London','United Kingdom','Winter',4.2,207.7)\")\n",
    "cur.execute(\"INSERT INTO TempData VALUES ('London','United Kingdom','Spring',8.3,169.6)\")\n",
    "cur.execute(\"INSERT INTO TempData VALUES ('London','United Kingdom','Summer',15.7,157.0)\")\n",
    "cur.execute(\"INSERT INTO TempData VALUES ('London','United Kingdom','Fall',10.4,218.5)\")\n",
    "cur.execute(\"INSERT INTO TempData VALUES ('Cairo','Egypt','Winter',13.6,16.5)\")\n",
    "cur.execute(\"INSERT INTO TempData VALUES ('Cairo','Egypt','Spring',20.7,6.5)\")\n",
    "cur.execute(\"INSERT INTO TempData VALUES ('Cairo','Egypt','Summer',27.7,0.1)\")\n",
    "cur.execute(\"INSERT INTO TempData VALUES ('Cairo','Egypt','Fall',22.2,4.5)\")"
   ]
  },
  {
   "cell_type": "markdown",
   "id": "597c8641",
   "metadata": {},
   "source": [
    "<b>A. Display all Temperature data.</b>"
   ]
  },
  {
   "cell_type": "code",
   "execution_count": 31,
   "id": "f8ffbfe0",
   "metadata": {},
   "outputs": [
    {
     "name": "stdout",
     "output_type": "stream",
     "text": [
      "(24.8,)\n",
      "(28.4,)\n",
      "(27.9,)\n",
      "(27.6,)\n",
      "(4.2,)\n",
      "(8.3,)\n",
      "(15.7,)\n",
      "(10.4,)\n",
      "(13.6,)\n",
      "(20.7,)\n",
      "(27.7,)\n",
      "(22.2,)\n"
     ]
    }
   ],
   "source": [
    "cur.execute('SELECT Temperature FROM TempData')\n",
    "\n",
    "Asol = cur.fetchall()\n",
    "for i in Asol:\n",
    "    print(i)"
   ]
  },
  {
   "cell_type": "markdown",
   "id": "79b45ba5",
   "metadata": {},
   "source": [
    "<b>B. Display all the cities, but without repetition.</b>"
   ]
  },
  {
   "cell_type": "code",
   "execution_count": 32,
   "id": "26ac2da9",
   "metadata": {},
   "outputs": [
    {
     "name": "stdout",
     "output_type": "stream",
     "text": [
      "('Mumbai', 'India')\n",
      "('London', 'United Kingdom')\n",
      "('Cairo', 'Egypt')\n"
     ]
    }
   ],
   "source": [
    "cur.execute('select DISTINCT City, Country from TempData')\n",
    "Bsol = cur.fetchall()\n",
    "for i in Bsol:\n",
    "    print(i)"
   ]
  },
  {
   "cell_type": "markdown",
   "id": "d2ebb4b6",
   "metadata": {},
   "source": [
    "<b>C. Display all the records for India.</b>"
   ]
  },
  {
   "cell_type": "code",
   "execution_count": 33,
   "id": "50116302",
   "metadata": {},
   "outputs": [
    {
     "name": "stdout",
     "output_type": "stream",
     "text": [
      "('Mumbai', 'India', 'Winter', 24.8, 5.9)\n",
      "('Mumbai', 'India', 'Spring', 28.4, 16.2)\n",
      "('Mumbai', 'India', 'Summer', 27.9, 1549.4)\n",
      "('Mumbai', 'India', 'Fall', 27.6, 346.0)\n"
     ]
    }
   ],
   "source": [
    "cur.execute('select * from TempData WHERE Country = \"India\" ')\n",
    "Csol = cur.fetchall()\n",
    "for i in Csol:\n",
    "    print(i)"
   ]
  },
  {
   "cell_type": "markdown",
   "id": "eaff73ee",
   "metadata": {},
   "source": [
    "<b>D. Display all the Fall records.</b>"
   ]
  },
  {
   "cell_type": "code",
   "execution_count": 34,
   "id": "4489df0f",
   "metadata": {},
   "outputs": [
    {
     "name": "stdout",
     "output_type": "stream",
     "text": [
      "('Mumbai', 'India', 'Fall', 27.6, 346.0)\n",
      "('London', 'United Kingdom', 'Fall', 10.4, 218.5)\n",
      "('Cairo', 'Egypt', 'Fall', 22.2, 4.5)\n"
     ]
    }
   ],
   "source": [
    "cur.execute('select * from TempData WHERE Season = \"Fall\" ')\n",
    "Dsol = cur.fetchall()\n",
    "for i in Dsol:\n",
    "    print(i)"
   ]
  },
  {
   "cell_type": "markdown",
   "id": "6f4dba9c",
   "metadata": {},
   "source": [
    "<b> E. Display the city, country, and season for which the average rainfall is between 200 and 400 millimeters.</b>"
   ]
  },
  {
   "cell_type": "code",
   "execution_count": 35,
   "id": "2129683a",
   "metadata": {},
   "outputs": [
    {
     "name": "stdout",
     "output_type": "stream",
     "text": [
      "('Mumbai', 'India', 'Fall')\n",
      "('London', 'United Kingdom', 'Winter')\n",
      "('London', 'United Kingdom', 'Fall')\n"
     ]
    }
   ],
   "source": [
    "cur.execute('select City, Country, Season from TempData WHERE Rainfall >=200 and Rainfall <=400 ')\n",
    "Esol = cur.fetchall()\n",
    "for i in Esol:\n",
    "    print(i)"
   ]
  },
  {
   "cell_type": "markdown",
   "id": "25033a72",
   "metadata": {},
   "source": [
    "<b>F. Display the city and country for which the average Fall temperature is above 20 degrees, in increasing temperature order.</b>"
   ]
  },
  {
   "cell_type": "code",
   "execution_count": 36,
   "id": "79bdb81f",
   "metadata": {},
   "outputs": [
    {
     "name": "stdout",
     "output_type": "stream",
     "text": [
      "('Cairo', 'Egypt')\n",
      "('Mumbai', 'India')\n"
     ]
    }
   ],
   "source": [
    "cur.execute('select City, Country from TempData WHERE Season = \"Fall\" and Temperature > 20 ORDER BY Temperature')\n",
    "Fsol = cur.fetchall()\n",
    "for i in Fsol:\n",
    "    print(i)"
   ]
  },
  {
   "cell_type": "markdown",
   "id": "74b17f99",
   "metadata": {},
   "source": [
    "<b>G. Display the total annual rainfall for Cairo.</b>"
   ]
  },
  {
   "cell_type": "code",
   "execution_count": 37,
   "id": "43326f34",
   "metadata": {},
   "outputs": [
    {
     "name": "stdout",
     "output_type": "stream",
     "text": [
      "(27.6,)\n"
     ]
    }
   ],
   "source": [
    "cur.execute('select SUM(Rainfall) from TempData WHERE City = \"Cairo\" ')\n",
    "Gsol = cur.fetchall()\n",
    "for i in Gsol:\n",
    "    print(i)"
   ]
  },
  {
   "cell_type": "markdown",
   "id": "dc1de89b",
   "metadata": {},
   "source": [
    "<b>H. Display the total rainfall for each season.</b>"
   ]
  },
  {
   "cell_type": "code",
   "execution_count": 38,
   "id": "8cbebfb3",
   "metadata": {},
   "outputs": [
    {
     "name": "stdout",
     "output_type": "stream",
     "text": [
      "(569.0, 'Fall')\n",
      "(192.29999999999998, 'Spring')\n",
      "(1706.5, 'Summer')\n",
      "(230.1, 'Winter')\n"
     ]
    }
   ],
   "source": [
    "cur.execute('select SUM(Rainfall),Season from TempData GROUP BY Season ')\n",
    "Hsol = cur.fetchall()\n",
    "for i in Hsol:\n",
    "    print(i)"
   ]
  },
  {
   "cell_type": "markdown",
   "id": "b5e951e5",
   "metadata": {},
   "source": [
    "# Question 9"
   ]
  },
  {
   "cell_type": "code",
   "execution_count": 39,
   "id": "4be33425",
   "metadata": {},
   "outputs": [
    {
     "data": {
      "text/plain": [
       "['The', 'quick', 'brown', 'fox', 'jumps', 'over', 'the', 'lazy', 'dog']"
      ]
     },
     "execution_count": 39,
     "metadata": {},
     "output_type": "execute_result"
    }
   ],
   "source": [
    "words = ['The', 'quick', 'brown', 'fox', 'jumps', 'over', 'the', 'lazy', 'dog']\n",
    "words"
   ]
  },
  {
   "cell_type": "markdown",
   "id": "29c66f71",
   "metadata": {},
   "source": [
    "<b><h3>Write list comprehension expressions that use list words and generate the following lists:</h3></b>"
   ]
  },
  {
   "cell_type": "markdown",
   "id": "7e594e67",
   "metadata": {},
   "source": [
    "<b>A) ['THE', 'QUICK', 'BROWN', 'FOX', 'JUMPS', 'OVER', 'THE', 'LAZY', 'DOG']</b>"
   ]
  },
  {
   "cell_type": "code",
   "execution_count": 40,
   "id": "01229706",
   "metadata": {},
   "outputs": [
    {
     "data": {
      "text/plain": [
       "['THE', 'QUICK', 'BROWN', 'FOX', 'JUMPS', 'OVER', 'THE', 'LAZY', 'DOG']"
      ]
     },
     "execution_count": 40,
     "metadata": {},
     "output_type": "execute_result"
    }
   ],
   "source": [
    "X = [i.upper() for i in words]\n",
    "X"
   ]
  },
  {
   "cell_type": "markdown",
   "id": "a6cd3e49",
   "metadata": {},
   "source": [
    "<b>B) ['the', 'quick', 'brown', 'fox', 'jumps', 'over', 'the', 'lazy', 'dog']</b>"
   ]
  },
  {
   "cell_type": "code",
   "execution_count": 41,
   "id": "d3d11451",
   "metadata": {},
   "outputs": [
    {
     "data": {
      "text/plain": [
       "['the', 'quick', 'brown', 'fox', 'jumps', 'over', 'the', 'lazy', 'dog']"
      ]
     },
     "execution_count": 41,
     "metadata": {},
     "output_type": "execute_result"
    }
   ],
   "source": [
    "X = [i.lower() for i in words]\n",
    "X"
   ]
  },
  {
   "cell_type": "markdown",
   "id": "bc2a8604",
   "metadata": {},
   "source": [
    "<b>C) [3, 5, 5, 3, 5, 4, 3, 4, 3] (the list of lengths of words in list words).</b>"
   ]
  },
  {
   "cell_type": "code",
   "execution_count": 42,
   "id": "b311d448",
   "metadata": {},
   "outputs": [
    {
     "data": {
      "text/plain": [
       "[3, 5, 5, 3, 5, 4, 3, 4, 3]"
      ]
     },
     "execution_count": 42,
     "metadata": {},
     "output_type": "execute_result"
    }
   ],
   "source": [
    "X = [len(i) for i in words]\n",
    "X"
   ]
  },
  {
   "cell_type": "markdown",
   "id": "75014bd6",
   "metadata": {},
   "source": [
    "<b>D) [['THE', 'the', 3], ['QUICK', 'quick', 5], ['BROWN', 'brown', 5], ['FOX', 'fox', 3], ['JUMPS', 'jumps', 5], ['OVER', 'over', 4], ['THE', 'the', 3], ['LAZY', 'lazy', 4], ['DOG', 'dog', 3]] (the list containing a list for every word of list words, where each list contains the word in uppercase and lowercase and the length of the word.)</b>"
   ]
  },
  {
   "cell_type": "code",
   "execution_count": 43,
   "id": "9759793d",
   "metadata": {},
   "outputs": [
    {
     "data": {
      "text/plain": [
       "[['THE', 'the', 3],\n",
       " ['QUICK', 'quick', 5],\n",
       " ['BROWN', 'brown', 5],\n",
       " ['FOX', 'fox', 3],\n",
       " ['JUMPS', 'jumps', 5],\n",
       " ['OVER', 'over', 4],\n",
       " ['THE', 'the', 3],\n",
       " ['LAZY', 'lazy', 4],\n",
       " ['DOG', 'dog', 3]]"
      ]
     },
     "execution_count": 43,
     "metadata": {},
     "output_type": "execute_result"
    }
   ],
   "source": [
    "X = [[i.upper(), i.lower(), len(i)] for i in words]\n",
    "X"
   ]
  },
  {
   "cell_type": "markdown",
   "id": "38805d00",
   "metadata": {},
   "source": [
    "<b>E) The list of words in list words containing 4 or more characters.</b>"
   ]
  },
  {
   "cell_type": "code",
   "execution_count": 44,
   "id": "b56826d8",
   "metadata": {},
   "outputs": [
    {
     "data": {
      "text/plain": [
       "['quick', 'brown', 'jumps', 'over', 'lazy']"
      ]
     },
     "execution_count": 44,
     "metadata": {},
     "output_type": "execute_result"
    }
   ],
   "source": [
    "X = [i for i in words if len(i)>= 4]\n",
    "X"
   ]
  },
  {
   "cell_type": "code",
   "execution_count": null,
   "id": "ca963da8",
   "metadata": {},
   "outputs": [],
   "source": []
  }
 ],
 "metadata": {
  "kernelspec": {
   "display_name": "Python 3",
   "language": "python",
   "name": "python3"
  },
  "language_info": {
   "codemirror_mode": {
    "name": "ipython",
    "version": 3
   },
   "file_extension": ".py",
   "mimetype": "text/x-python",
   "name": "python",
   "nbconvert_exporter": "python",
   "pygments_lexer": "ipython3",
   "version": "3.8.8"
  }
 },
 "nbformat": 4,
 "nbformat_minor": 5
}
